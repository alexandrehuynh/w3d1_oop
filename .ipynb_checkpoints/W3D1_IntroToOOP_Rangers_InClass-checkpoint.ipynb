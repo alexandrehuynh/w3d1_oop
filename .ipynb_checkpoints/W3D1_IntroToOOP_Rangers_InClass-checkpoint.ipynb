{
 "cells": [
  {
   "cell_type": "markdown",
   "metadata": {},
   "source": [
    "# Object-Oriented-Programming (OOP)"
   ]
  },
  {
   "cell_type": "markdown",
   "metadata": {},
   "source": [
    "## Tasks Today:\n",
    "\n",
    "   \n",
    "\n",
    "1) <b>Creating a Class (Initializing/Declaring)</b> <br>\n",
    "2) <b>Using a Class (Instantiating)</b> <br>\n",
    " &nbsp;&nbsp;&nbsp;&nbsp; a) Creating One Instance <br>\n",
    " &nbsp;&nbsp;&nbsp;&nbsp; b) Creating Multiple Instances <br>\n",
    " &nbsp;&nbsp;&nbsp;&nbsp; c) In-Class Exercise #1 - Create a Class 'Car' and instantiate three different makes of cars <br>\n",
    "3) <b>The \\__init\\__() Method</b> <br>\n",
    " &nbsp;&nbsp;&nbsp;&nbsp; a) The 'self' Attribute <br>\n",
    "4) <b>Class Attributes</b> <br>\n",
    " &nbsp;&nbsp;&nbsp;&nbsp; a) Initializing Attributes <br>\n",
    " &nbsp;&nbsp;&nbsp;&nbsp; b) Setting an Attribute Outside of the \\__init\\__() Method <br>\n",
    " &nbsp;&nbsp;&nbsp;&nbsp; c) Setting Defaults for Attributes <br>\n",
    " &nbsp;&nbsp;&nbsp;&nbsp; d) Accessing Class Attributes <br>\n",
    " &nbsp;&nbsp;&nbsp;&nbsp; e) Changing Class Attributes <br>\n",
    " &nbsp;&nbsp;&nbsp;&nbsp; f) In-Class Exercise #2 - Add a color and wheels attribute to your 'Car' class <br>\n",
    "5) <b>Class Methods</b> <br>\n",
    " &nbsp;&nbsp;&nbsp;&nbsp; a) Creating <br>\n",
    " &nbsp;&nbsp;&nbsp;&nbsp; b) Calling <br>\n",
    " &nbsp;&nbsp;&nbsp;&nbsp; c) Modifying an Attribute's Value Through a Method <br>\n",
    " &nbsp;&nbsp;&nbsp;&nbsp; d) Incrementing an Attribute's Value Through a Method <br>\n",
    " &nbsp;&nbsp;&nbsp;&nbsp; e) In-Class Exercise #3 - Add a method that prints the cars color and wheel number, then call them <br>\n",
    "6) <b>Inheritance</b> <br>\n",
    " &nbsp;&nbsp;&nbsp;&nbsp; a) Syntax for Inheriting from a Parent Class <br>\n",
    " &nbsp;&nbsp;&nbsp;&nbsp; b) The \\__init\\__() Method for a Child Class (super()) <br>\n",
    " &nbsp;&nbsp;&nbsp;&nbsp; c) Defining Attributes and Methods for the Child Class <br>\n",
    " &nbsp;&nbsp;&nbsp;&nbsp; d) Method Overriding <br>\n",
    " &nbsp;&nbsp;&nbsp;&nbsp; e) In-Class Exercise #4 - Create a class 'Ford' that inherits from 'Car' class and initialize it as a Blue Ford Explorer with 4 wheels using the super() method <br>\n",
    "7) <b>Encapsulation</b> <br>\n",
    " &nbsp;&nbsp;&nbsp;&nbsp; a) Public Access Modifier <br>\n",
    " &nbsp;&nbsp;&nbsp;&nbsp; b) Protected Access Modifier <br>\n",
    " &nbsp;&nbsp;&nbsp;&nbsp; c) Private Access Modifier <br>\n",
    "8) <b>Classes as Attributes</b> <br>\n",
    "9) <b>Exercises</b> <br>\n",
    " &nbsp;&nbsp;&nbsp;&nbsp; a) Exercise #1 - Turn the shopping cart program from last week into an object-oriented program <br>"
   ]
  },
  {
   "cell_type": "markdown",
   "metadata": {},
   "source": [
    "## Classes\n",
    "\n",
    "<p>A class is a blueprint for creating objects. It defines attributes (characteristics) and methods (functions) that the objects created from the class will have. It provides a way to structure and organize code in object-oriented programming. </p>"
   ]
  },
  {
   "cell_type": "markdown",
   "metadata": {},
   "source": [
    "## Creating a Class (Initializing/Declaring)\n",
    "<p>When creating a class, function, or even a variable you are initializing that object. Initializing and Declaring occur at the same time in Python, whereas in lower level languages you have to declare an object before initializing it. This is the first step in the process of using a class.</p>"
   ]
  },
  {
   "cell_type": "code",
   "execution_count": 1,
   "metadata": {
    "tags": []
   },
   "outputs": [],
   "source": [
    "class Car():\n",
    "    wheels = 4\n",
    "    color = 'orange'"
   ]
  },
  {
   "cell_type": "markdown",
   "metadata": {},
   "source": [
    "## Using a Class (Instantiating)\n",
    "<p>The process of creating a class is called <i>Instantiating</i>. Each time you create a variable of that type of class, it is referred to as an <i>Instance</i> of that class. This is the second step in the process of using a class.</p>"
   ]
  },
  {
   "cell_type": "markdown",
   "metadata": {},
   "source": [
    "##### Creating One Instance"
   ]
  },
  {
   "cell_type": "code",
   "execution_count": 3,
   "metadata": {
    "tags": []
   },
   "outputs": [
    {
     "name": "stdout",
     "output_type": "stream",
     "text": [
      "4\n",
      "orange\n",
      "{}\n"
     ]
    }
   ],
   "source": [
    "ford = Car()\n",
    "print(ford.wheels)\n",
    "print(ford.color)\n",
    "\n",
    "print(ford.__dict__)"
   ]
  },
  {
   "cell_type": "markdown",
   "metadata": {},
   "source": [
    "##### Creating Multiple Instances"
   ]
  },
  {
   "cell_type": "code",
   "execution_count": 5,
   "metadata": {
    "tags": []
   },
   "outputs": [
    {
     "name": "stdout",
     "output_type": "stream",
     "text": [
      "orange\n",
      "4\n"
     ]
    }
   ],
   "source": [
    "mazda = Car()\n",
    "\n",
    "honda = Car()\n",
    "\n",
    "mclaren = Car()\n",
    "\n",
    "print(mazda.color)\n",
    "print(mclaren.wheels)"
   ]
  },
  {
   "cell_type": "markdown",
   "metadata": {},
   "source": [
    "##### In-Class Exercise #1 - Create a Class 'Car' and Instantiate three different makes of cars"
   ]
  },
  {
   "cell_type": "code",
   "execution_count": 8,
   "metadata": {
    "tags": []
   },
   "outputs": [
    {
     "name": "stdout",
     "output_type": "stream",
     "text": [
      "{'model': 'impreza', 'year': 2013, 'door': 4}\n",
      "4\n",
      "{'model': 'm5', 'year': 2021, 'door': 4}\n",
      "2021\n",
      "{'model': 'q5', 'year': 2019, 'door': 4}\n",
      "q5\n"
     ]
    }
   ],
   "source": [
    "class Car():\n",
    "    def __init__(self, model, year, door):\n",
    "        self.model = model\n",
    "        self.year = year\n",
    "        self.door = door\n",
    "\n",
    "subaru = Car(\"impreza\", 2013, 4)\n",
    "bmw = Car(\"m5\", 2021, 4)\n",
    "audi = Car(\"q5\", 2019, 4)\n",
    "\n",
    "print(subaru.__dict__)\n",
    "print(subaru.door)\n",
    "print(bmw.__dict__)\n",
    "print(bmw.year)\n",
    "print(audi.__dict__)\n",
    "print(audi.model)"
   ]
  },
  {
   "cell_type": "code",
   "execution_count": 15,
   "metadata": {
    "tags": []
   },
   "outputs": [
    {
     "name": "stdin",
     "output_type": "stream",
     "text": [
      "Please enter the make of your car subaru\n",
      "Please enter the model of your car impreza\n",
      "Please enter how many wheels your car has 4\n",
      "Please enter the color of your car silver\n",
      "Please enter how many doors your car has 4\n"
     ]
    },
    {
     "name": "stdout",
     "output_type": "stream",
     "text": [
      "Your car is a silver subaru impreza with 4 wheels and 4 doors\n",
      "{'make': 'Chevy', 'model': 'Impala', 'wheels': 4, 'color': 'Mocha Metallic Bronze', 'doors': 4}\n",
      "Fisher-Price Toy 4 red 2\n"
     ]
    }
   ],
   "source": [
    "class Car():\n",
    "    def __init__(self, make, model, wheels, color, doors):\n",
    "        self.make = make\n",
    "        self.model = model\n",
    "        self.wheels = wheels\n",
    "        self.color = color\n",
    "        self.doors = doors\n",
    "chevy = Car(\"Chevy\", \"Impala\", 4, \"Mocha Metallic Bronze\", 4)\n",
    "fisher = Car(\"Fisher-Price\", \"Toy\", 4, \"red\", 2)\n",
    "horse = Car(\"Gandalf\", \"Shadowfax\", 0, \"white\", 0)\n",
    "\n",
    "\n",
    "car_make = input(\"Please enter the make of your car\")\n",
    "car_model = input(\"Please enter the model of your car\")\n",
    "car_wheels = input(\"Please enter how many wheels your car has\")\n",
    "car_color = input(\"Please enter the color of your car\")\n",
    "car_doors = input(\"Please enter how many doors your car has\")\n",
    "\n",
    "print(f\"Your car is a {car_color} {car_make} {car_model} with {car_wheels} wheels and {car_doors} doors\")\n",
    "\n",
    "print(chevy.__dict__)\n",
    "print(fisher.make, fisher.model, fisher.wheels, fisher.color, fisher.doors)"
   ]
  },
  {
   "cell_type": "code",
   "execution_count": null,
   "metadata": {},
   "outputs": [],
   "source": []
  },
  {
   "cell_type": "code",
   "execution_count": null,
   "metadata": {},
   "outputs": [],
   "source": []
  },
  {
   "cell_type": "markdown",
   "metadata": {},
   "source": [
    "## The \\__init\\__() Method <br>\n",
    "<p>This method is used in almost every created class, and called only once upon the creation of the class instance. This method will initialize all variables needed for the object.</p>"
   ]
  },
  {
   "cell_type": "code",
   "execution_count": 16,
   "metadata": {
    "tags": []
   },
   "outputs": [
    {
     "name": "stdout",
     "output_type": "stream",
     "text": [
      "Blue\n",
      "Red\n",
      "Green\n",
      "Silver\n",
      "{'wheels': 4, 'color': 'Blue', 'doors': 4}\n"
     ]
    }
   ],
   "source": [
    "class Car():\n",
    "    def __init__(self, wheels, color, doors):\n",
    "        self.wheels = wheels\n",
    "        self.color = color\n",
    "        self.doors = doors\n",
    "mazda = Car(4, \"Blue\", 4)\n",
    "\n",
    "mclaren = Car(4, 'Red', 2)\n",
    "\n",
    "honda = Car(4, \"Green\", 4)\n",
    "\n",
    "ford = Car(6, \"Silver\", 4)\n",
    "print(mazda.color)\n",
    "print(mclaren.color)\n",
    "print(honda.color)\n",
    "print(ford.color)\n",
    "\n",
    "mazda.wheels\n",
    "\n",
    "print(mazda.__dict__)"
   ]
  },
  {
   "cell_type": "markdown",
   "metadata": {},
   "source": [
    "##### The 'self' Attribute <br>\n",
    "<p>This attribute is required to keep track of specific instance's attributes. Without the self attribute, the program would not know how to reference or keep track of an instance's attributes.</p>"
   ]
  },
  {
   "cell_type": "code",
   "execution_count": 23,
   "metadata": {
    "tags": []
   },
   "outputs": [
    {
     "name": "stdout",
     "output_type": "stream",
     "text": [
      "Charmander\n",
      "Squirtle is a water type\n",
      "This is Charmander. It is a fire type.\n",
      "This is Heracross. It is a bug type.\n"
     ]
    }
   ],
   "source": [
    "class Pokemon():\n",
    "    def __init__(self, name, type_):\n",
    "        #self is going to hold the place of the object we instantiate\n",
    "        self.name = name #self will become object. (object.name)\n",
    "        self.type_ = type_\n",
    "#         print(f\"self is referencing the object {self}, {self.name}\")\n",
    "#         print(self.type_)\n",
    "\n",
    "    def print_info(self):\n",
    "        print(f\"This is {self.name}. It is a {self.type_} type.\")\n",
    "        \n",
    "        \n",
    "    \n",
    "        \n",
    "charmander = Pokemon(\"Charmander\", \"fire\")\n",
    "squirtle = Pokemon(\"Squirtle\", \"water\")\n",
    "heracross = Pokemon(\"Heracross\", \"bug\")\n",
    "\n",
    "print(charmander.name)\n",
    "print(f\"{squirtle.name} is a {squirtle.type_} type\")\n",
    "\n",
    "charmander.print_info()\n",
    "heracross.print_info()"
   ]
  },
  {
   "cell_type": "markdown",
   "metadata": {},
   "source": [
    "## Class Attributes <br>\n",
    "<p>While variables are inside of a class, they are referred to as attributes and not variables. When someone says 'attribute' you know they're speaking about a class. Attributes can be initialized through the init method, or outside of it.</p>"
   ]
  },
  {
   "cell_type": "markdown",
   "metadata": {},
   "source": [
    "##### Initializing Attributes"
   ]
  },
  {
   "cell_type": "code",
   "execution_count": 24,
   "metadata": {
    "tags": []
   },
   "outputs": [],
   "source": [
    "bulbasaur = Pokemon(\"Bulbasaur\", \"Grass\")"
   ]
  },
  {
   "cell_type": "markdown",
   "metadata": {},
   "source": [
    "##### Accessing Class Attributes"
   ]
  },
  {
   "cell_type": "code",
   "execution_count": 27,
   "metadata": {
    "scrolled": true,
    "tags": []
   },
   "outputs": [
    {
     "name": "stdout",
     "output_type": "stream",
     "text": [
      "Bulbasaur\n",
      "Grass\n",
      "{'name': 'Bulbasaur', 'type_': 'Grass'}\n",
      "Help on Pokemon in module __main__ object:\n",
      "\n",
      "class Pokemon(builtins.object)\n",
      " |  Pokemon(name, type_)\n",
      " |  \n",
      " |  Methods defined here:\n",
      " |  \n",
      " |  __init__(self, name, type_)\n",
      " |      Initialize self.  See help(type(self)) for accurate signature.\n",
      " |  \n",
      " |  print_info(self)\n",
      " |  \n",
      " |  ----------------------------------------------------------------------\n",
      " |  Data descriptors defined here:\n",
      " |  \n",
      " |  __dict__\n",
      " |      dictionary for instance variables (if defined)\n",
      " |  \n",
      " |  __weakref__\n",
      " |      list of weak references to the object (if defined)\n",
      "\n"
     ]
    }
   ],
   "source": [
    "print(bulbasaur.name)\n",
    "print(bulbasaur.type_)\n",
    "print(bulbasaur.__dict__)\n",
    "\n",
    "help(bulbasaur)"
   ]
  },
  {
   "cell_type": "markdown",
   "metadata": {},
   "source": [
    "##### Setting Defaults for Attributes"
   ]
  },
  {
   "cell_type": "code",
   "execution_count": 34,
   "metadata": {
    "tags": []
   },
   "outputs": [
    {
     "name": "stdout",
     "output_type": "stream",
     "text": [
      "silver\n",
      "4\n",
      "red\n"
     ]
    }
   ],
   "source": [
    "class Car():\n",
    "    def __init__(self, color):\n",
    "        self.wheels = 4\n",
    "        self.color = color\n",
    "        \n",
    "honda = Car(\"silver\")\n",
    "print(honda.color)\n",
    "print(honda.wheels)\n",
    "mazda = Car(\"red\")\n",
    "print(mazda.color)"
   ]
  },
  {
   "cell_type": "code",
   "execution_count": 43,
   "metadata": {
    "tags": []
   },
   "outputs": [
    {
     "name": "stdout",
     "output_type": "stream",
     "text": [
      "green v8 4\n",
      "black v8 6\n"
     ]
    }
   ],
   "source": [
    "class Car():\n",
    "    def __init__(self, color, engine, wheels = 4):\n",
    "        self.color = color\n",
    "        self.engine = engine\n",
    "        self.wheels = wheels\n",
    "\n",
    "ford = Car(\"green\", \"v8\")\n",
    "print(ford.color, ford.engine, ford.wheels)\n",
    "\n",
    "dodge = Car(\"black\", \"v8\", 6)\n",
    "print(dodge.color, dodge.engine, dodge.wheels)"
   ]
  },
  {
   "cell_type": "markdown",
   "metadata": {},
   "source": [
    "##### Constant attributes <br>\n",
    "<p>In Python, there is no strict concept of \"constants\" within a class as there is in some other programming languages. However, it's a common convention to use uppercase variable names for values that are intended to be treated as constants within a class.</p>"
   ]
  },
  {
   "cell_type": "code",
   "execution_count": 44,
   "metadata": {
    "tags": []
   },
   "outputs": [
    {
     "name": "stdout",
     "output_type": "stream",
     "text": [
      "True\n",
      "True\n"
     ]
    }
   ],
   "source": [
    "class Car():\n",
    "    \n",
    "    GOES_FAST =  True # constant attribute - accessible to any instane of car class and not likely to change\n",
    "        \n",
    "    def __init__(self, color, engine, wheels):\n",
    "        self.color = color\n",
    "        self.engine = engine\n",
    "        self.wheels = wheels\n",
    "        \n",
    "ford = Car(\"green\", \"v8\", 4)\n",
    "print(ford.GOES_FAST)\n",
    "dodge = Car(\"black\", \"v8\", 6)\n",
    "print(dodge.GOES_FAST)"
   ]
  },
  {
   "cell_type": "markdown",
   "metadata": {},
   "source": [
    "##### Changing Class Attributes <br>\n",
    "<p>Keep in mind there are global class attributes and then there are attributes only available to each class instance which won't effect other classes.</p>"
   ]
  },
  {
   "cell_type": "code",
   "execution_count": 51,
   "metadata": {
    "tags": []
   },
   "outputs": [
    {
     "name": "stdout",
     "output_type": "stream",
     "text": [
      "6\n"
     ]
    }
   ],
   "source": [
    "class Car():\n",
    "    def __init__(self, color):\n",
    "        self.color = color\n",
    "        self.wheels = 4\n",
    "        \n",
    "honda = Car(\"magenta\")\n",
    "honda.wheels = 6\n",
    "print(honda.wheels)"
   ]
  },
  {
   "cell_type": "code",
   "execution_count": null,
   "metadata": {},
   "outputs": [],
   "source": []
  },
  {
   "cell_type": "markdown",
   "metadata": {},
   "source": [
    "##### In-Class Exercise #2 - Add two new attributes to your 'Car' class then print out two different instances with different doors and seats. Then take that bad boy to the shop and change those attributes. Either with an input or just by changing them"
   ]
  },
  {
   "cell_type": "code",
   "execution_count": 69,
   "metadata": {
    "tags": []
   },
   "outputs": [
    {
     "name": "stdout",
     "output_type": "stream",
     "text": [
      "WELCOME TO MTV PIMP MY RIDE FEATURING XZIBIT \n",
      "\n",
      "we took this old beat up Toyota with rustic rust with nothing special inside it to this... \n",
      "\n",
      "TOTALLY REALISTIC AND PRACTICAL flaming hot cheeto red Toyota with 2 flatscreen TVs, a xbox360, and a HOT TUB inside it to this 🤘🤘\n"
     ]
    }
   ],
   "source": [
    "class Car():\n",
    "    def __init__(self, color, wheels, doors, pimp_my_ride):\n",
    "        self.color = color\n",
    "        self.wheels = wheels\n",
    "        self.doors = doors\n",
    "        self.pimp_my_ride = pimp_my_ride\n",
    "        \n",
    "\n",
    "print(\"WELCOME TO MTV PIMP MY RIDE FEATURING XZIBIT \\n\")\n",
    "toyota = Car(\"rustic rust\", 4, 4, \"nothing special\")\n",
    "print(f\"we took this old beat up Toyota with {toyota.color} with {toyota.pimp_my_ride} inside it to this... \\n\")\n",
    "\n",
    "\n",
    "toyota.color = \"flaming hot cheeto red\"\n",
    "toyota.pimp_my_ride = \"2 flatscreen TVs, a xbox360, and a HOT TUB\"\n",
    "\n",
    "print(f\"TOTALLY REALISTIC AND PRACTICAL {toyota.color} Toyota with {toyota.pimp_my_ride} inside it to this 🤘🤘\")"
   ]
  },
  {
   "cell_type": "markdown",
   "metadata": {},
   "source": [
    "## Class Methods <br>\n",
    "<p>While inside of a class, functions are referred to as 'methods'. If you hear someone mention methods, they're speaking about classes. Methods are essentially functions, but only callable on the instances of a class.</p>"
   ]
  },
  {
   "cell_type": "markdown",
   "metadata": {},
   "source": [
    "##### Creating"
   ]
  },
  {
   "cell_type": "code",
   "execution_count": 93,
   "metadata": {
    "tags": []
   },
   "outputs": [],
   "source": [
    "class Bus():\n",
    "    \"\"\"\n",
    "    The buss will have doors, seats, seats available, color, and a bus driver\n",
    "    \n",
    "    Attributes for the bus:\n",
    "    -doors: integer\n",
    "    -seats: integer\n",
    "    -seats_available: integer\n",
    "    -color: string\n",
    "    -bus_driver: string\n",
    "    \n",
    "    \"\"\"\n",
    "    \n",
    "    def __init__(self, doors, seats, seats_avaiable, color, bus_driver):\n",
    "        self.doors = doors\n",
    "        self.seats = seats\n",
    "        self.seats_available = seats_avaiable\n",
    "        self.color = color\n",
    "        self.bus_driver = bus_driver\n",
    "        \n",
    "    # decrement number of seats available\n",
    "    def load_passengers(self):\n",
    "        \n",
    "        if self.seats_available <= 0:\n",
    "            print(\"This bus is full! You can't take any more passengers :(\")\n",
    "            \n",
    "            if self.seats_available < 0:\n",
    "                print(f\"You left {abs(self.seats_available)} by the road!\")\n",
    "                self.seats_available = 0\n",
    "        \n",
    "        else:\n",
    "            passengers = int(input(\"How many passengers are getting on? \"))\n",
    "            self.seats_available -= passengers\n",
    "            \n",
    "            if self.seats_available < 0:\n",
    "                print(f\"You left {abs(self.seats_available)} by the road!\")\n",
    "                # absolute: taking the absolute value from 0\n",
    "                self.seats_available = 0\n",
    "\n",
    "            else:    \n",
    "                print(f\"{passengers} passengers have boarded. There are {self.seats_available} seats available left on the bus!\")\n",
    "            \n",
    "    # increment the number of seats available\n",
    "    def unload_passengers(self):\n",
    "        \n",
    "        if self.seats_available >= self.seats:\n",
    "            print(\"There is no one on the bus to unload\")\n",
    "        else:\n",
    "            unload = int(input(\"How many passengers are getting off the bus?\"))\n",
    "            self.seats_available += unload\n",
    "            \n",
    "            if self.seats_available >= self.seats:\n",
    "                self.seats_available = self.seats\n",
    "            \n",
    "            print(f\"{unload} passengers have left the bus. There are {self.seats_available} left\")\n",
    "        \n",
    "    # change the bus_driver attribute\n",
    "    def change_driver(self):\n",
    "        change = input(\"Who is replacing you? \")\n",
    "        self.bus_driver = change\n",
    "        print(f\"The new bus driver is {self.bus_driver}. Be sure to thank them!\")\n",
    "        \n",
    "    # display available seats\n",
    "    def check_seats(self):\n",
    "        print(f\"There are {self.seats_available} seats available\")\n",
    "        \n",
    "    # display bus color\n",
    "    def admire_bus(self):\n",
    "        print(f\"Would ya just look at that beautiful {self.color} bus! WOULD YA JUST LOOK AT IT!\")\n",
    "        \n",
    "        \n",
    "\n",
    "            \n",
    "    \n",
    "    "
   ]
  },
  {
   "cell_type": "markdown",
   "metadata": {},
   "source": [
    "##### Calling"
   ]
  },
  {
   "cell_type": "code",
   "execution_count": 92,
   "metadata": {
    "tags": []
   },
   "outputs": [
    {
     "name": "stdin",
     "output_type": "stream",
     "text": [
      "What would you like to do? Load/Unload/Change Driver/Check Seats/Admire/Quit? check seats\n"
     ]
    },
    {
     "name": "stdout",
     "output_type": "stream",
     "text": [
      "There are 45 seats available\n"
     ]
    },
    {
     "name": "stdin",
     "output_type": "stream",
     "text": [
      "What would you like to do? Load/Unload/Change Driver/Check Seats/Admire/Quit? load\n",
      "How man passengers are getting on?  5\n"
     ]
    },
    {
     "name": "stdout",
     "output_type": "stream",
     "text": [
      "5 passengers have boarded. There are 40 seats available left on the bus!\n"
     ]
    },
    {
     "name": "stdin",
     "output_type": "stream",
     "text": [
      "What would you like to do? Load/Unload/Change Driver/Check Seats/Admire/Quit? unload\n",
      "How many passengers are getting off the bus? 45\n"
     ]
    },
    {
     "name": "stdout",
     "output_type": "stream",
     "text": [
      "45 passengers have left the bus. There are 85 left\n"
     ]
    },
    {
     "name": "stdin",
     "output_type": "stream",
     "text": [
      "What would you like to do? Load/Unload/Change Driver/Check Seats/Admire/Quit? load\n",
      "How man passengers are getting on?  100\n"
     ]
    },
    {
     "name": "stdout",
     "output_type": "stream",
     "text": [
      "You left 15 by the road!\n"
     ]
    },
    {
     "name": "stdin",
     "output_type": "stream",
     "text": [
      "What would you like to do? Load/Unload/Change Driver/Check Seats/Admire/Quit? unload\n",
      "How many passengers are getting off the bus? 100\n"
     ]
    },
    {
     "name": "stdout",
     "output_type": "stream",
     "text": [
      "100 passengers have left the bus. There are 90 left\n"
     ]
    },
    {
     "name": "stdin",
     "output_type": "stream",
     "text": [
      "What would you like to do? Load/Unload/Change Driver/Check Seats/Admire/Quit? unload\n"
     ]
    },
    {
     "name": "stdout",
     "output_type": "stream",
     "text": [
      "There is no one on the bus to unload\n"
     ]
    },
    {
     "name": "stdin",
     "output_type": "stream",
     "text": [
      "What would you like to do? Load/Unload/Change Driver/Check Seats/Admire/Quit? 100\n"
     ]
    },
    {
     "name": "stdout",
     "output_type": "stream",
     "text": [
      "That is not a valid response. Please pick from the list!\n"
     ]
    },
    {
     "name": "stdin",
     "output_type": "stream",
     "text": [
      "What would you like to do? Load/Unload/Change Driver/Check Seats/Admire/Quit? unload\n"
     ]
    },
    {
     "name": "stdout",
     "output_type": "stream",
     "text": [
      "There is no one on the bus to unload\n"
     ]
    },
    {
     "name": "stdin",
     "output_type": "stream",
     "text": [
      "What would you like to do? Load/Unload/Change Driver/Check Seats/Admire/Quit? load\n",
      "How man passengers are getting on?  100000\n"
     ]
    },
    {
     "name": "stdout",
     "output_type": "stream",
     "text": [
      "You left 99910 by the road!\n"
     ]
    },
    {
     "name": "stdin",
     "output_type": "stream",
     "text": [
      "What would you like to do? Load/Unload/Change Driver/Check Seats/Admire/Quit? unload\n",
      "How many passengers are getting off the bus? 20\n"
     ]
    },
    {
     "name": "stdout",
     "output_type": "stream",
     "text": [
      "20 passengers have left the bus. There are 20 left\n"
     ]
    },
    {
     "name": "stdin",
     "output_type": "stream",
     "text": [
      "What would you like to do? Load/Unload/Change Driver/Check Seats/Admire/Quit? check seats\n"
     ]
    },
    {
     "name": "stdout",
     "output_type": "stream",
     "text": [
      "There are 20 seats available\n"
     ]
    },
    {
     "name": "stdin",
     "output_type": "stream",
     "text": [
      "What would you like to do? Load/Unload/Change Driver/Check Seats/Admire/Quit? load\n",
      "How man passengers are getting on?  10000\n"
     ]
    },
    {
     "name": "stdout",
     "output_type": "stream",
     "text": [
      "You left 9980 by the road!\n"
     ]
    },
    {
     "name": "stdin",
     "output_type": "stream",
     "text": [
      "What would you like to do? Load/Unload/Change Driver/Check Seats/Admire/Quit? check seats\n"
     ]
    },
    {
     "name": "stdout",
     "output_type": "stream",
     "text": [
      "There are 0 seats available\n"
     ]
    },
    {
     "name": "stdin",
     "output_type": "stream",
     "text": [
      "What would you like to do? Load/Unload/Change Driver/Check Seats/Admire/Quit? unload\n",
      "How many passengers are getting off the bus? 20\n"
     ]
    },
    {
     "name": "stdout",
     "output_type": "stream",
     "text": [
      "20 passengers have left the bus. There are 20 left\n"
     ]
    },
    {
     "name": "stdin",
     "output_type": "stream",
     "text": [
      "What would you like to do? Load/Unload/Change Driver/Check Seats/Admire/Quit? unload\n",
      "How many passengers are getting off the bus? 1000\n"
     ]
    },
    {
     "name": "stdout",
     "output_type": "stream",
     "text": [
      "1000 passengers have left the bus. There are 90 left\n"
     ]
    },
    {
     "name": "stdin",
     "output_type": "stream",
     "text": [
      "What would you like to do? Load/Unload/Change Driver/Check Seats/Admire/Quit? change driver\n",
      "Who is replacing you?  Patrick\n"
     ]
    },
    {
     "name": "stdout",
     "output_type": "stream",
     "text": [
      "The new bus driver is Patrick. Be sure to thank them!\n"
     ]
    },
    {
     "name": "stdin",
     "output_type": "stream",
     "text": [
      "What would you like to do? Load/Unload/Change Driver/Check Seats/Admire/Quit? quit\n"
     ]
    },
    {
     "name": "stdout",
     "output_type": "stream",
     "text": [
      "OH NO! There are still passengers to be picked up. Pls dont abandon them!\n"
     ]
    }
   ],
   "source": [
    "def run():\n",
    "    krusty_crabs_rock = Bus(2, 90, 45, \"yellow\", \"Spongebob\")\n",
    "    \n",
    "    while True:\n",
    "        response = input(\"What would you like to do? Load/Unload/Change Driver/Check Seats/Admire/Quit?\")\n",
    "        if response.lower() == \"quit\":\n",
    "            print(\"OH NO! There are still passengers to be picked up. Pls dont abandon them!\")\n",
    "            break\n",
    "        elif response.lower() == 'load':\n",
    "            krusty_crabs_rock.load_passengers()\n",
    "            \n",
    "        elif response.lower() == \"unload\":\n",
    "            krusty_crabs_rock.unload_passengers()\n",
    "        \n",
    "        elif response.lower() == \"change driver\":\n",
    "            krusty_crabs_rock.change_driver()\n",
    "            \n",
    "        elif response.lower() == \"check seats\":\n",
    "            krusty_crabs_rock.check_seats()\n",
    "            \n",
    "        elif response.lower() == \"admire\":\n",
    "            krusty_crabs_rock.admire_bus()\n",
    "            \n",
    "        else:\n",
    "            print(\"That is not a valid response. Please pick from the list!\")\n",
    "            \n",
    "run()"
   ]
  },
  {
   "cell_type": "markdown",
   "metadata": {},
   "source": [
    "##### Modifying an Attribute's Value Through a Method"
   ]
  },
  {
   "cell_type": "code",
   "execution_count": null,
   "metadata": {},
   "outputs": [],
   "source": [
    "# see above\n",
    "# load_passengers()\n",
    "# unload_passengers()\n",
    "# change_driver()"
   ]
  },
  {
   "cell_type": "markdown",
   "metadata": {},
   "source": [
    "##### Incrementing an Attribute's Value Through a Method"
   ]
  },
  {
   "cell_type": "code",
   "execution_count": null,
   "metadata": {},
   "outputs": [],
   "source": [
    "#unload_passengers()"
   ]
  },
  {
   "cell_type": "markdown",
   "metadata": {},
   "source": [
    "##### In-Class Exercise #3 - Add a method that takes in three parameters of year, doors and seats and prints out a formatted print statement with make, model, year, seats, and doors"
   ]
  },
  {
   "cell_type": "code",
   "execution_count": 124,
   "metadata": {
    "tags": []
   },
   "outputs": [],
   "source": [
    "class Transformer():\n",
    "    \"\"\"\n",
    "    # Create class with 2 paramters inside of the __init__ which are make and model, more if you'd like\n",
    "\n",
    "    # Create two methods for your class\n",
    "\n",
    "    # Create a method that alters an attribute for your class\n",
    "\n",
    "    # Display method that prints information about the vehicle\n",
    "\n",
    "    # Output: This car is from 2019 and is a Ford Expolorer and has 4 doors and 5 seats\n",
    "\n",
    "    # reminder in order to call class methods object.method()\n",
    "    \"\"\"\n",
    "    \n",
    "    def __init__(self, shape, lazors, hidden_blades, seatwarmers):\n",
    "        self.shape = shape\n",
    "        self.lazors = lazors\n",
    "        self.hidden_blades = hidden_blades\n",
    "        self.seatwarmers = seatwarmers\n",
    "        \n",
    "    def disguise_yoself(self):\n",
    "        print(f\"we are currently in {self.shape} mode\")\n",
    "        transformation = input(\"Are we in vroom vrooming in 'stealth' mode or in 'fight' mode? I am ready to kick Megatron's b*********t ?\") \n",
    "        self.shape = transformation \n",
    "        print(f\"Autobots roll out, we are in {transformation} mode\")\n",
    "        \n",
    "    def upgrade_weapons(self):\n",
    "        if self.lazors == 0:\n",
    "            print(f\"Oh no! Where are all my lazors\")\n",
    "            self.lazors += 1\n",
    "        elif self.lazors >= 1:\n",
    "            lazor_upgrade = int(input(\"How many more lazors are we adding chief: \"))\n",
    "            self.lazors += lazor_upgrade\n",
    "            print(f\"LAZORS OUT, Gundam STYLE. Adding {lazor_upgrade}, total lazor {self.lazors}\")\n",
    "        \n",
    "            \n",
    "\n",
    "\n",
    "\n"
   ]
  },
  {
   "cell_type": "code",
   "execution_count": 123,
   "metadata": {
    "tags": []
   },
   "outputs": [
    {
     "name": "stdin",
     "output_type": "stream",
     "text": [
      "What are we checking on? Disguise, Lazors, Hidden Blades, or Seatwarmers?  q\n"
     ]
    }
   ],
   "source": [
    "def run():\n",
    "    \n",
    "    autobots = Transformer(\"stealth\", 3, 4, True)\n",
    "    \n",
    "    while True:\n",
    "        response = input(\"What are we checking on? Disguise, Lazors, Hidden Blades, or Seatwarmers? \")\n",
    "        \n",
    "        if response.lower() == \"disguise\":\n",
    "            autobots.disguise_yoself()\n",
    "            \n",
    "        elif response.lower() == 'lazors':\n",
    "            autobots.upgrade_weapons()\n",
    "            \n",
    "        elif response.lower() == \"hidden blades\":\n",
    "            autobots.hidden_blades()\n",
    "        \n",
    "        elif response.lower() == \"seatwarmers\":\n",
    "            autobots.seatwarmers()\n",
    "            \n",
    "        elif response.lower() == \"q\":\n",
    "            break\n",
    "            \n",
    "run()\n",
    "            "
   ]
  },
  {
   "cell_type": "code",
   "execution_count": 125,
   "metadata": {
    "tags": []
   },
   "outputs": [
    {
     "name": "stdout",
     "output_type": "stream",
     "text": [
      "This car is from 2019 and is a Ford Expolorer and has 4 doors and 5 seats\n"
     ]
    }
   ],
   "source": [
    "class Car():\n",
    "    def __init__(self, make, model):\n",
    "        self.make = make\n",
    "        self.model = model\n",
    "        self.year = 2023\n",
    "        self.door = 2\n",
    "        self.seats = 2\n",
    "        \n",
    "    def change_info(self, year, door, seats):\n",
    "        self.year = year\n",
    "        self.door = door\n",
    "        self.seats = seats   \n",
    "    \n",
    "    def display_info(self):\n",
    "        print(f\"This car is from {self.year} and is a {self.make} {self.model} and has {self.door} doors and {self.seats} seats\")\n",
    "        \n",
    "        \n",
    "my_car = Car(\"Ford\", \"Expolorer\")\n",
    "my_car.change_info(2019, 4 ,5)\n",
    "my_car.display_info()\n",
    "\n",
    "\n"
   ]
  },
  {
   "cell_type": "markdown",
   "metadata": {},
   "source": [
    "## Inheritance <br>\n",
    "<p>You can create a child-parent relationship between two classes by using inheritance. What this allows you to do is have overriding methods, but also inherit traits from the parent class. Think of it as an actual parent and child, the child will inherit the parent's genes, as will the classes in OOP</p>"
   ]
  },
  {
   "cell_type": "markdown",
   "metadata": {},
   "source": [
    "##### Syntax for Inheriting from a Parent Class"
   ]
  },
  {
   "cell_type": "code",
   "execution_count": 155,
   "metadata": {
    "tags": []
   },
   "outputs": [],
   "source": [
    "# creation of our parent class\n",
    "class Animal():\n",
    "    \n",
    "    ACCELERATION = 9.8\n",
    "    \n",
    "    def __init__(self, name, species, legs = 4):\n",
    "        self.name = name\n",
    "        self.species = species\n",
    "        self.legs = legs\n",
    "#         self.mammal = mammal\n",
    "\n",
    "  #generic parent method\n",
    "    def make_sound(self):\n",
    "        print(\"REEEEEEEEEE\")\n",
    "        \n",
    "#creation of the child class\n",
    "class Dog(Animal):\n",
    "    \n",
    "    SPEED = 15\n",
    "    \n",
    "    def __init__(self, name, species = \"Dog\"):\n",
    "        super().__init__(name, species) # calls the parent init method upon instantiation \n",
    " \n",
    "    def print_info(self):\n",
    "        print(f\"{self.name} runs at {self.SPEED} mph and accelerates at {self.ACCELERATION} mps^2\")\n",
    "        \n",
    "        \n",
    "#creation of the grandchild class\n",
    "class Mutt(Dog):\n",
    "    \n",
    "    CUTE = True\n",
    "    PRECIOUS = True\n",
    "    \n",
    "    #Access the Animal init class through the Dog class\n",
    "    def __init__(self, name, eye_color, species = 'Mutt'):\n",
    "        Dog.__init__(self, name, species)\n",
    "        self.eye_color = eye_color\n",
    "#         Animal.make_sound(self)       \n",
    "        \n",
    "        \n",
    "    #override the make_sound method\n",
    "    def make_sound(self):\n",
    "        print(\"roooooooo\")  \n",
    "\n",
    "        \n",
    "        \n",
    "mutt = Mutt('d', 'd', 'd')\n",
    "mutt.legs = 3\n",
    "# mutt.legs"
   ]
  },
  {
   "cell_type": "code",
   "execution_count": null,
   "metadata": {},
   "outputs": [
    {
     "name": "stdout",
     "output_type": "stream",
     "text": [
      "0\n",
      "{'name': 'flipper', 'species': 'dolphin', 'legs': 0}\n"
     ]
    }
   ],
   "source": [
    "dolphin = Animal(\"flipper\", \"dolphin\")\n",
    "\n",
    "dolphin.legs = 0\n",
    "\n",
    "print(dolphin.legs)\n",
    "print(dolphin.__dict__)"
   ]
  },
  {
   "cell_type": "code",
   "execution_count": 157,
   "metadata": {
    "tags": []
   },
   "outputs": [
    {
     "name": "stdout",
     "output_type": "stream",
     "text": [
      "15\n",
      "REEEEEEEEEE\n",
      "4\n",
      "Titan runs at 15 mph and accelerates at 9.8 mps^2\n"
     ]
    }
   ],
   "source": [
    "pitbull = Dog(\"Titan\")\n",
    "\n",
    "## grabbing this constant from parent (animal) class\n",
    "print(pitbull.SPEED)\n",
    "## grabbbing this from parent class\n",
    "pitbull.make_sound()\n",
    "## Default setting from animal (parent) class\n",
    "print(pitbull.legs)\n",
    "pitbull.print_info()"
   ]
  },
  {
   "cell_type": "code",
   "execution_count": 162,
   "metadata": {
    "tags": []
   },
   "outputs": [
    {
     "name": "stdout",
     "output_type": "stream",
     "text": [
      "9.8\n",
      "roooooooo\n",
      "Skippy runs at 15 mph and accelerates at 9.8 mps^2\n",
      "True\n"
     ]
    }
   ],
   "source": [
    "skippy_skip = Mutt(\"Skippy\", \"Olive Green\")\n",
    "\n",
    "# grandparent attriubte\n",
    "print(skippy_skip.ACCELERATION)\n",
    "## override dog because it's inside mutt class\n",
    "skippy_skip.make_sound()\n",
    "skippy_skip.print_info()\n",
    "print(skippy_skip.PRECIOUS)"
   ]
  },
  {
   "cell_type": "markdown",
   "metadata": {},
   "source": [
    "##### The \\__init\\__() Method for a Child Class - super()"
   ]
  },
  {
   "cell_type": "code",
   "execution_count": 163,
   "metadata": {
    "scrolled": true,
    "tags": []
   },
   "outputs": [],
   "source": [
    "#creation of the child class\n",
    "class Dog(Animal):\n",
    "    \n",
    "    SPEED = 15\n",
    "    \n",
    "    def __init__(self, name, species = \"Dog\"):\n",
    "        super().__init__(name, species) # calls the parent init method upon instantiation \n",
    " \n",
    "    def print_info(self):\n",
    "        print(f\"{self.name} runs at {self.SPEED} mph and accelerates at {self.ACCELERATION} mps^2\")"
   ]
  },
  {
   "cell_type": "markdown",
   "metadata": {
    "tags": []
   },
   "source": [
    "##### Defining Attributes and Methods for the Child Class"
   ]
  },
  {
   "cell_type": "code",
   "execution_count": 164,
   "metadata": {
    "tags": []
   },
   "outputs": [],
   "source": [
    "#creation of the grandchild class\n",
    "class Mutt(Dog):\n",
    "    \n",
    "    CUTE = True\n",
    "    PRECIOUS = True\n",
    "    \n",
    "    #Access the Animal init class through the Dog class\n",
    "    def __init__(self, name, eye_color, species = 'Mutt'):\n",
    "        Dog.__init__(self, name, species)\n",
    "        self.eye_color = eye_color\n",
    "#         Animal.make_sound(self)       \n",
    "        \n",
    "        \n",
    "    #override the make_sound method\n",
    "    def make_sound(self):\n",
    "        print(\"roooooooo\")  \n"
   ]
  },
  {
   "cell_type": "markdown",
   "metadata": {},
   "source": [
    "##### Method Overriding"
   ]
  },
  {
   "cell_type": "code",
   "execution_count": null,
   "metadata": {},
   "outputs": [],
   "source": [
    "# See Above"
   ]
  },
  {
   "cell_type": "markdown",
   "metadata": {},
   "source": [
    "## Encapsulation\n"
   ]
  },
  {
   "cell_type": "markdown",
   "metadata": {},
   "source": [
    "<p>Encapsulation is one of the fundamental concepts in object-oriented programming (OOP). It describes the idea of wrapping data and the methods that work on data within one unit. This puts restrictions on accessing variables and methods directly and can prevent the accidental modification of data. f"
   ]
  },
  {
   "cell_type": "markdown",
   "metadata": {},
   "source": [
    "### Access Modifiers\n"
   ]
  },
  {
   "cell_type": "markdown",
   "metadata": {},
   "source": [
    "#### Public\n",
    "<p> Attributes & methods default to public in classes. Meaning they can be accessed from anywhere. "
   ]
  },
  {
   "cell_type": "code",
   "execution_count": 1,
   "metadata": {},
   "outputs": [],
   "source": [
    "#see above. All attributes & methods in the previous examples are public"
   ]
  },
  {
   "cell_type": "markdown",
   "metadata": {},
   "source": [
    "#### Protected \n",
    "<p>Protected attributes are denoted with a singular '_' underscore. Attributes & methods that are protected are only accessible in the class it derived from and any inherited classes. "
   ]
  },
  {
   "cell_type": "code",
   "execution_count": 174,
   "metadata": {
    "tags": []
   },
   "outputs": [],
   "source": [
    "class Animal():\n",
    "    \n",
    "    ACCELERATION = 9.8\n",
    "    \n",
    "    def __init__(self, name, species, legs = 4):\n",
    "        self.name = name\n",
    "        # protected attribute\n",
    "        self._species = species\n",
    "        self.legs = legs\n",
    "\n",
    "  #generic parent method\n",
    "    def make_sound(self):\n",
    "        print(\"REEEEEEEEEE\")\n",
    "    \n",
    "    # protected method\n",
    "    def _get_species(self):\n",
    "        return self._species\n",
    "    \n",
    "#creation of the child class\n",
    "class Dog(Animal):\n",
    "    \n",
    "    SPEED = 15\n",
    "    \n",
    "    def __init__(self, name, species = \"Dog\"):\n",
    "        super().__init__(name, species) # calls the parent init method upon instantiation \n",
    " \n",
    "    def print_info(self):\n",
    "        print(f\"{self.name} runs at {self.SPEED} mph and accelerates at {self.ACCELERATION} mps^2\")\n",
    "        \n",
    "    def display_species(self):\n",
    "        return self._get_species() # access protected method and allows us to create rules on how we display information to user\n",
    "    \n",
    "    "
   ]
  },
  {
   "cell_type": "code",
   "execution_count": 179,
   "metadata": {
    "tags": []
   },
   "outputs": [
    {
     "name": "stdout",
     "output_type": "stream",
     "text": [
      "Dog\n",
      "<class 'str'>\n"
     ]
    }
   ],
   "source": [
    "lassy = Dog(\"Lassy\")\n",
    "\n",
    "lassy.display_species()\n",
    "print(lassy.display_species())\n",
    "print(type(lassy.display_species()))"
   ]
  },
  {
   "cell_type": "markdown",
   "metadata": {},
   "source": [
    "#### Private \n",
    "<p>Private attributes are denoted with a double '__' underscore. Attributes & methods that are private are only accessible in the class it was derived from making them the most secure. "
   ]
  },
  {
   "cell_type": "code",
   "execution_count": 184,
   "metadata": {
    "tags": []
   },
   "outputs": [],
   "source": [
    "class Animal():\n",
    "    \n",
    "    ACCELERATION = 9.8\n",
    "    \n",
    "    def __init__(self, name, species, legs = 4):\n",
    "        self.name = name\n",
    "        # private attribute\n",
    "        self.__species = species\n",
    "        self.legs = legs\n",
    "\n",
    "  #generic parent method\n",
    "    def make_sound(self):\n",
    "        print(\"REEEEEEEEEE\")\n",
    "    \n",
    "    # private method\n",
    "    def display_species(self): # display private attribute only accessible in this class\n",
    "        return self.__species\n",
    "    \n",
    "#creation of the child class\n",
    "class Dog(Animal):\n",
    "    \n",
    "    SPEED = 15\n",
    "    \n",
    "    def __init__(self, name, species = \"Dog\"):\n",
    "        super().__init__(name, species) # calls the parent init method upon instantiation \n",
    " \n",
    "    def print_info(self):\n",
    "        print(f\"{self.name} runs at {self.SPEED} mph and accelerates at {self.ACCELERATION} mps^2\")\n",
    "        \n",
    "#     def display_species(self):\n",
    "#         return self._get_species() # access protected method and allows us to create rules on how we display information to user\n",
    "    \n",
    "    "
   ]
  },
  {
   "cell_type": "code",
   "execution_count": 183,
   "metadata": {
    "tags": []
   },
   "outputs": [
    {
     "name": "stdout",
     "output_type": "stream",
     "text": [
      "Dog\n"
     ]
    }
   ],
   "source": [
    "lassy = Dog(\"Lassy\")\n",
    "\n",
    "lassy.display_species() # shouldn't get it but python be like that\n",
    "print(lassy.display_species())"
   ]
  },
  {
   "cell_type": "markdown",
   "metadata": {},
   "source": [
    "## Classes as Attributes <br>\n",
    "<p>Classes can also be used as attributes within another class. This is useful in situations where you need to keep variables locally stored, instead of globally stored.</p>"
   ]
  },
  {
   "cell_type": "code",
   "execution_count": 196,
   "metadata": {
    "tags": []
   },
   "outputs": [
    {
     "name": "stdout",
     "output_type": "stream",
     "text": [
      "20\n",
      "20\n",
      "2022 Tesla Model Y 20\n"
     ]
    }
   ],
   "source": [
    "class Battery():\n",
    "    VOLTZ = 7.8\n",
    "    \n",
    "    def __init__(self, cells):\n",
    "        self.cells = cells\n",
    "        \n",
    "class Car():\n",
    "    def __init__(self, year, make, model, battery):\n",
    "        self.year = year\n",
    "        self.make = make\n",
    "        self.model = model\n",
    "        self.battery = battery\n",
    "        \n",
    "    def print_info(self):                            # = batt.cells\n",
    "        print(f\"{self.year} {self.make} {self.model} {self.battery.cells}\")\n",
    "        \n",
    "batt = Battery(20)\n",
    "\n",
    "tesla = Car(2022, \"Tesla\", \"Model Y\", batt)\n",
    "\n",
    "print(batt.cells)\n",
    "print(tesla.battery.cells)\n",
    "\n",
    "tesla.print_info()"
   ]
  },
  {
   "cell_type": "markdown",
   "metadata": {},
   "source": [
    "### Generators in Classes"
   ]
  },
  {
   "cell_type": "code",
   "execution_count": null,
   "metadata": {
    "tags": []
   },
   "outputs": [],
   "source": []
  },
  {
   "cell_type": "markdown",
   "metadata": {},
   "source": [
    "# Exercises"
   ]
  },
  {
   "cell_type": "markdown",
   "metadata": {},
   "source": [
    "### Exercise 1 - Turn the shopping cart program from last week into an object-oriented program\n",
    "\n",
    "The comments in the cell below are there as a guide for thinking about the problem. However, if you feel a different way is best for you and your own thought process, please do what feels best for you by all means."
   ]
  },
  {
   "cell_type": "code",
   "execution_count": null,
   "metadata": {},
   "outputs": [],
   "source": [
    "# Create a class called cart that retains items and has methods to add, remove, and show\n",
    "\n",
    "class Cart():\n",
    "    pass\n",
    "    "
   ]
  },
  {
   "cell_type": "markdown",
   "metadata": {},
   "source": [
    "### Exercise 1 Option 2 - Create A Video Game Character Class using Object-Oriented Programming\n",
    "<p>The character class should have the following attributes: character type (i.e. ogre, human, elf, etc), health points, attack points, weapons (list or dictionary). The class should also have the following methods to deplete health points, regain health points, add or remove weapons, and show character stats.\n",
    "    "
   ]
  },
  {
   "cell_type": "code",
   "execution_count": 282,
   "metadata": {
    "tags": []
   },
   "outputs": [
    {
     "name": "stdout",
     "output_type": "stream",
     "text": [
      "Choose your character class: Human, Ogre, Elf\n"
     ]
    },
    {
     "name": "stdin",
     "output_type": "stream",
     "text": [
      " elf\n"
     ]
    },
    {
     "name": "stdout",
     "output_type": "stream",
     "text": [
      "\n",
      "You have chosen Elf. These are your starting stats: \n",
      "Type: Elf, Health: 70, Attack: 15, Weapons: {'bow': 12, 'dagger': 7}\n",
      "\n",
      "What would you like to do with your character?\n",
      "1. 'Show' stats\n",
      "2. 'Deplete' health\n",
      "3. 'Heal' health\n",
      "4. 'Add' weapon\n",
      "5. 'Remove' weapon\n",
      "6. 'Exit'\n"
     ]
    },
    {
     "name": "stdin",
     "output_type": "stream",
     "text": [
      "Enter your choice (1-6):  1\n"
     ]
    },
    {
     "name": "stdout",
     "output_type": "stream",
     "text": [
      "\n",
      "Type: Elf, Health: 70, Attack: 15, Weapons: {'bow': 12, 'dagger': 7}\n",
      "\n",
      "What would you like to do with your character?\n",
      "1. 'Show' stats\n",
      "2. 'Deplete' health\n",
      "3. 'Heal' health\n",
      "4. 'Add' weapon\n",
      "5. 'Remove' weapon\n",
      "6. 'Exit'\n"
     ]
    },
    {
     "name": "stdin",
     "output_type": "stream",
     "text": [
      "Enter your choice (1-6):  2\n",
      "\n",
      "Enter amount of health to deplete:  10\n"
     ]
    },
    {
     "name": "stdout",
     "output_type": "stream",
     "text": [
      "Depeleting 10 HP. Total: 60 HP\n",
      "\n",
      "What would you like to do with your character?\n",
      "1. 'Show' stats\n",
      "2. 'Deplete' health\n",
      "3. 'Heal' health\n",
      "4. 'Add' weapon\n",
      "5. 'Remove' weapon\n",
      "6. 'Exit'\n"
     ]
    },
    {
     "name": "stdin",
     "output_type": "stream",
     "text": [
      "Enter your choice (1-6):  3\n",
      "\n",
      "Enter amount of health to heal:  10\n"
     ]
    },
    {
     "name": "stdout",
     "output_type": "stream",
     "text": [
      "Healing 10 HP. Total: 70 HP\n",
      "\n",
      "What would you like to do with your character?\n",
      "1. 'Show' stats\n",
      "2. 'Deplete' health\n",
      "3. 'Heal' health\n",
      "4. 'Add' weapon\n",
      "5. 'Remove' weapon\n",
      "6. 'Exit'\n"
     ]
    },
    {
     "name": "stdin",
     "output_type": "stream",
     "text": [
      "Enter your choice (1-6):  exit\n"
     ]
    },
    {
     "name": "stdout",
     "output_type": "stream",
     "text": [
      "Exiting the character menu.\n"
     ]
    }
   ],
   "source": [
    "class BuildASkyrimCharacter():\n",
    "\n",
    "    def __init__(self, character_class):\n",
    "        \n",
    "        self.character_class = character_class\n",
    "        self.health_points, self.attack_points, self.weapons = self.default_values(character_class)\n",
    "\n",
    "    def default_values(self, character_class):\n",
    "        defaults = {\n",
    "            'Ogre': (100, 20, {'club': 15}),\n",
    "            'Human': (80, 10, {'sword': 10, 'shield': 5}),\n",
    "            'Elf': (70, 15, {'bow': 12, 'dagger': 7})\n",
    "        }\n",
    "        return defaults.get(character_class, (50, 5, {})) \n",
    "    \n",
    "    def show_stats(self):\n",
    "        return f\"\\nType: {self.character_class}, Health: {self.health_points}, Attack: {self.attack_points}, Weapons: {self.weapons}\"\n",
    "    \n",
    "    def deplete_health(self, amount):\n",
    "        self.health_points = max(0, self.health_points - amount)\n",
    "        print(f\"Depeleting {amount} HP. Total: {self.health_points} HP\")\n",
    "\n",
    "    def regain_health(self, amount):\n",
    "        self.health_points += amount\n",
    "        print(f\"Healing {amount} HP. Total: {self.health_points} HP\")\n",
    "\n",
    "    def add_weapon(self, weapon, attack):\n",
    "        self.weapons[weapon] = attack\n",
    "        print(f\"{weapon} has been added. \\nWeapon Inventory: {self.weapons}\")\n",
    "        \n",
    "    def remove_weapon(self, weapon):\n",
    "        if weapon in self.weapons:\n",
    "            del self.weapons[weapon]\n",
    "            print(f\"\\n{weapon} has been tossed. \\nWeapon Inventory: {self.weapons}\")\n",
    "        elif weapon not in self.weapons:\n",
    "            print(f\"\\n{weapon} not found. \\nWeapon Inventory: {self.weapons}\")\n",
    "\n",
    "def character_class_selection():\n",
    "    print(\"Choose your character class: Human, Ogre, Elf\")\n",
    "    choice = BuildASkyrimCharacter(input().capitalize())\n",
    "    print(f\"\\nYou have chosen {choice.character_class}. These are your starting stats: \\nType: {choice.character_class}, Health: {choice.health_points}, Attack: {choice.attack_points}, Weapons: {choice.weapons}\")\n",
    "    return choice\n",
    "\n",
    "def interactive_menu(character):\n",
    "    while True:\n",
    "        print(\"\\nWhat would you like to do with your character?\")\n",
    "        print(\"1. 'Show' stats\")\n",
    "        print(\"2. 'Deplete' health\")\n",
    "        print(\"3. 'Heal' health\")\n",
    "        print(\"4. 'Add' weapon\")\n",
    "        print(\"5. 'Remove' weapon\")\n",
    "        print(\"6. 'Exit'\")\n",
    "\n",
    "        choice = input(\"Enter your choice (1-6): \").capitalize()\n",
    "\n",
    "        if choice in [\"1\", \"Show\"]:\n",
    "            print(character.show_stats())\n",
    "        elif choice in [\"2\", \"Deplete\"]:\n",
    "            amount = int(input(\"\\nEnter amount of health to deplete: \"))\n",
    "            character.deplete_health(amount)\n",
    "        elif choice in [\"3\", \"Heal\"]:\n",
    "            amount = int(input(\"\\nEnter amount of health to heal: \"))\n",
    "            character.regain_health(amount)\n",
    "        elif choice in [\"4\", \"Add\"]:\n",
    "            weapon = input(\"\\nEnter weapon name: \").lower()\n",
    "            attack = int(input(\"\\nEnter attack points of the weapon: \"))\n",
    "            character.add_weapon(weapon, attack)\n",
    "        elif choice in [\"5\", \"Remove\"]:\n",
    "            weapon = input(\"\\nEnter weapon name to remove: \").lower()\n",
    "            character.remove_weapon(weapon)\n",
    "        elif choice in [\"6\", \"Exit\"]:\n",
    "            print(\"Exiting the character menu.\")\n",
    "            break\n",
    "        else:\n",
    "            print(\"Invalid choice, please try again.\")\n",
    "\n",
    "\n",
    "#### Main Function ####\n",
    "character = character_class_selection()\n",
    "interactive_menu(character)\n"
   ]
  },
  {
   "cell_type": "markdown",
   "metadata": {},
   "source": [
    "### Exercise 2 - Write a Python class which has two methods get_String and print_String. get_String accept a string from the user and print_String print the string in upper case"
   ]
  },
  {
   "cell_type": "code",
   "execution_count": 264,
   "metadata": {
    "tags": []
   },
   "outputs": [
    {
     "name": "stdin",
     "output_type": "stream",
     "text": [
      "Want to see a magic trick? 'Y' or 'N' \n",
      " Y\n",
      "Type anything in all lower case:  i love apple pie and i think games of throne fumbled the bag for greatest show of all time\n"
     ]
    },
    {
     "name": "stdout",
     "output_type": "stream",
     "text": [
      "I LOVE APPLE PIE AND I THINK GAMES OF THRONE FUMBLED THE BAG FOR GREATEST SHOW OF ALL TIME\n"
     ]
    },
    {
     "name": "stdin",
     "output_type": "stream",
     "text": [
      "Want to see a magic trick? 'Y' or 'N' \n",
      " n\n"
     ]
    },
    {
     "name": "stdout",
     "output_type": "stream",
     "text": [
      "The trick was to make you disappear actually\n"
     ]
    }
   ],
   "source": [
    "class Magic_Trick():\n",
    "    \n",
    "    def __init__(self, statement):\n",
    "        self.statement = statement\n",
    "        \n",
    "    def get_string(self):\n",
    "        self.statement = input(\"Type anything in all lower case: \")\n",
    "        \n",
    "    def print_string(self):\n",
    "        print(self.statement.upper())\n",
    "        \n",
    "        \n",
    "def run():\n",
    "\n",
    "    \n",
    "    while True:\n",
    "            \n",
    "        user = input(\"Want to see a magic trick? 'Y' or 'N' \\n\").capitalize()\n",
    "\n",
    "        if user in [\"No\", \"N\"]:\n",
    "            print(\"The trick was to make you disappear actually\")\n",
    "            break\n",
    "        elif user in [\"Yes\", \"Y\"]:\n",
    "            trick = Magic_Trick(user)\n",
    "            trick.get_string()\n",
    "            trick.print_string()\n",
    "\n",
    "run()\n",
    "    \n"
   ]
  },
  {
   "cell_type": "code",
   "execution_count": null,
   "metadata": {},
   "outputs": [],
   "source": []
  }
 ],
 "metadata": {
  "kernelspec": {
   "display_name": "Python 3 (ipykernel)",
   "language": "python",
   "name": "python3"
  },
  "language_info": {
   "codemirror_mode": {
    "name": "ipython",
    "version": 3
   },
   "file_extension": ".py",
   "mimetype": "text/x-python",
   "name": "python",
   "nbconvert_exporter": "python",
   "pygments_lexer": "ipython3",
   "version": "3.11.5"
  }
 },
 "nbformat": 4,
 "nbformat_minor": 4
}
